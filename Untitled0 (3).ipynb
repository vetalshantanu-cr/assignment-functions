{
  "nbformat": 4,
  "nbformat_minor": 0,
  "metadata": {
    "colab": {
      "provenance": []
    },
    "kernelspec": {
      "name": "python3",
      "display_name": "Python 3"
    },
    "language_info": {
      "name": "python"
    }
  },
  "cells": [
    {
      "cell_type": "markdown",
      "source": [
        "Theory Questions with Examples\n",
        "# 1. Difference between a function and a method in Python\n",
        ":- A function is a standalone block of code, while a method is a function that  belongs to a class.\n",
        "Example:\n",
        "# Function\n",
        "def add(x, y):\n",
        "    return x + y\n",
        "# Method\n",
        "class MyClass:\n",
        "    def add(self, x, y):\n",
        "        return x + y\n",
        "\n",
        "\n",
        "# 2. Function arguments and parameters in Python\n",
        ":- Parameters are the variables defined in the function signature, while arguments are the values passed to the function when it's called .\n",
        "Example:\n",
        "def greet(name):  # name is a parameter\n",
        "    print(f\"Hello, {name}!\")\n",
        "greet(\"Alice\")  # \"Alice\" is an argument\n",
        "\n",
        "\n",
        "# 3. Different ways to define and call a function in Python\n",
        ":- You can define functions using the def keyword, lambda functions, or function calls .\n",
        "Examples:\n",
        "\n",
        "# def keyword\n",
        "def add(x, y):\n",
        "    return x + y\n",
        "# Lambda function\n",
        "add_lambda = lambda x, y: x + y\n",
        "# Function call\n",
        "print(add(2, 3))\n",
        "print(add_lambda(2, 3))\n",
        "\n",
        "\n",
        "# 4. Purpose of the return statement in a Python function\n",
        ":- The return statement is used to exit the function and return a value to the caller .\n",
        "Example:\n",
        "def add(x, y):\n",
        "    return x + y  # returns the result\n",
        "result = add(2, 3)\n",
        "print(result)\n",
        "\n",
        "\n",
        "# 5. Iterators in Python and how they differ from iterables\n",
        ":- Iterators are objects that allow you to iterate over a sequence, while iterables are objects that can be iterated over .\n",
        "Example:\n",
        "my_list = [1, 2, 3]  # iterable\n",
        "my_iter = iter(my_list)  # iterator\n",
        "print(next(my_iter))  # prints 1\n",
        "\n",
        "\n",
        "# 6. Generators in Python and how they are defined\n",
        ":- Generators are a type of iterable that can be defined using a function with the yield keyword .\n",
        "Example:\n",
        "def my_generator():\n",
        "    yield 1\n",
        "    yield 2\n",
        "    yield 3\n",
        "for value in my_generator():\n",
        "    print(value)\n",
        "\n",
        "\n",
        "# 7. Advantages of using generators over regular functions\n",
        ":- Generators are lazy, memory-efficient, and can handle infinite sequences .\n",
        "Example:\n",
        "def my_generator():\n",
        "    n = 0\n",
        "    while True:\n",
        "        yield n\n",
        "        n += 1\n",
        "gen = my_generator()\n",
        "for _ in range(10):\n",
        "    print(next(gen))\n",
        "\n",
        "\n",
        "# 8. Lambda function in Python and when it is typically used\n",
        ":- A lambda function is a small anonymous function that can be defined inline .\n",
        "Example:\n",
        "add = lambda x, y: x + y\n",
        "print(add(2, 3))\n",
        "\n",
        "\n",
        "# 9. Purpose and usage of the map() function in Python\n",
        ":-The map() function applies a function to each item in an iterable .\n",
        "Example:\n",
        "numbers = [1, 2, 3]\n",
        "squared_numbers = list(map(lambda x: x**2, numbers))\n",
        "print(squared_numbers)\n",
        "\n",
        "\n",
        "# 10. Difference between map(), reduce(), and filter() functions in Python\n",
        "  | Function | Purpose | Example |\n",
        ":- map() | Apply a function to each item | list(map(lambda x: x**2, [1, 2, 3])) |\n",
        " reduce() | Reduce an iterable to a single value | reduce(lambda x, y: x + y, [1, 2, 3]) |\n",
        "filter() | Filter items in an iterable | list(filter(lambda x: x > 2, [1, 2, 3])) |\n"
      ],
      "metadata": {
        "id": "oOOaiQNbPEAl"
      }
    },
    {
      "cell_type": "code",
      "source": [
        "#Practical Questions:\n",
        "\n",
        "# 1. Write a Python function that takes a list of numbers as input and returns the sum of all even numbers in the list.\n",
        "def sum_of_even_numbers(numbers):\n",
        "    total = 0\n",
        "    for num in numbers:\n",
        "        if num % 2 == 0:\n",
        "            total += num\n",
        "    return total\n",
        "\n",
        "# Example usage:\n",
        "my_list = [1, 2, 3, 4, 5, 6]\n",
        "print(\"Sum of even numbers:\", sum_of_even_numbers(my_list))\n",
        "\n",
        "\n"
      ],
      "metadata": {
        "colab": {
          "base_uri": "https://localhost:8080/"
        },
        "id": "j6-BCXkwQQ-x",
        "outputId": "e9b00c4d-7800-4ea3-9685-c2a39db43dfc"
      },
      "execution_count": 1,
      "outputs": [
        {
          "output_type": "stream",
          "name": "stdout",
          "text": [
            "Sum of even numbers: 12\n"
          ]
        }
      ]
    },
    {
      "cell_type": "code",
      "source": [
        "# 2. Create a Python function that accepts a string and returns the reverse of that string.\n",
        "def reverse_string(input_string):\n",
        "    return input_string[::-1]\n",
        "\n",
        "# Example usage:\n",
        "my_string = \"Hello, World!\"\n",
        "print(\"Reversed string:\", reverse_string(my_string))"
      ],
      "metadata": {
        "colab": {
          "base_uri": "https://localhost:8080/"
        },
        "id": "DsRvBQYRRoYZ",
        "outputId": "69d290be-f9a4-4ebf-e70f-43a53753b76b"
      },
      "execution_count": 2,
      "outputs": [
        {
          "output_type": "stream",
          "name": "stdout",
          "text": [
            "Reversed string: !dlroW ,olleH\n"
          ]
        }
      ]
    },
    {
      "cell_type": "code",
      "source": [
        "# 3. Implement a Python function that takes a list of integers and returns a new list containing the squares of each number.\n",
        "def square_numbers(numbers):\n",
        "    squared_list = []\n",
        "    for num in numbers:\n",
        "        squared_list.append(num ** 2)\n",
        "    return squared_list\n",
        "\n",
        "# Example usage:\n",
        "my_list = [1, 2, 3, 4, 5]\n",
        "print(\"Squares:\", square_numbers(my_list))"
      ],
      "metadata": {
        "colab": {
          "base_uri": "https://localhost:8080/"
        },
        "id": "Jm8634qZR_qI",
        "outputId": "744c1bf3-29e4-4b84-8f12-6bf180cb9686"
      },
      "execution_count": 5,
      "outputs": [
        {
          "output_type": "stream",
          "name": "stdout",
          "text": [
            "Squares: [1, 4, 9, 16, 25]\n"
          ]
        }
      ]
    },
    {
      "cell_type": "code",
      "source": [
        "#4. Write a Python function that checks if a given number is prime or not from 1 to 200.\n",
        "def is_prime(n):\n",
        "    if n < 2:\n",
        "        return False  # 0 and 1 are not prime\n",
        "    for i in range(2, int(n ** 0.5) + 1):  # check divisibility up to sqrt(n)\n",
        "        if n % i == 0:\n",
        "            return False\n",
        "    return True\n",
        "\n",
        "# Example usage:\n",
        "for num in range(1, 201):\n",
        "    if is_prime(num):\n",
        "        print(f\"{num} is a prime number\")"
      ],
      "metadata": {
        "colab": {
          "base_uri": "https://localhost:8080/"
        },
        "id": "DhF8PlaaSWa8",
        "outputId": "04f20783-13cb-4a6c-c385-9cb679278053"
      },
      "execution_count": 7,
      "outputs": [
        {
          "output_type": "stream",
          "name": "stdout",
          "text": [
            "2 is a prime number\n",
            "3 is a prime number\n",
            "5 is a prime number\n",
            "7 is a prime number\n",
            "11 is a prime number\n",
            "13 is a prime number\n",
            "17 is a prime number\n",
            "19 is a prime number\n",
            "23 is a prime number\n",
            "29 is a prime number\n",
            "31 is a prime number\n",
            "37 is a prime number\n",
            "41 is a prime number\n",
            "43 is a prime number\n",
            "47 is a prime number\n",
            "53 is a prime number\n",
            "59 is a prime number\n",
            "61 is a prime number\n",
            "67 is a prime number\n",
            "71 is a prime number\n",
            "73 is a prime number\n",
            "79 is a prime number\n",
            "83 is a prime number\n",
            "89 is a prime number\n",
            "97 is a prime number\n",
            "101 is a prime number\n",
            "103 is a prime number\n",
            "107 is a prime number\n",
            "109 is a prime number\n",
            "113 is a prime number\n",
            "127 is a prime number\n",
            "131 is a prime number\n",
            "137 is a prime number\n",
            "139 is a prime number\n",
            "149 is a prime number\n",
            "151 is a prime number\n",
            "157 is a prime number\n",
            "163 is a prime number\n",
            "167 is a prime number\n",
            "173 is a prime number\n",
            "179 is a prime number\n",
            "181 is a prime number\n",
            "191 is a prime number\n",
            "193 is a prime number\n",
            "197 is a prime number\n",
            "199 is a prime number\n"
          ]
        }
      ]
    },
    {
      "cell_type": "code",
      "source": [
        "#5. Create an iterator class in Python that generates the Fibonacci sequence up to a specified number of terms.\n",
        "class FibonacciIterator:\n",
        "    def __init__(self, max_terms):\n",
        "        self.max_terms = max_terms\n",
        "        self.n1 = 0\n",
        "        self.n2 = 1\n",
        "        self.count = 0\n",
        "\n",
        "    def __iter__(self):\n",
        "        return self\n",
        "\n",
        "    def __next__(self):\n",
        "        if self.count >= self.max_terms:\n",
        "            raise StopIteration\n",
        "        if self.count == 0:\n",
        "            self.count += 1\n",
        "            return self.n1\n",
        "        elif self.count == 1:\n",
        "            self.count += 1\n",
        "            return self.n2\n",
        "        else:\n",
        "            next_fib = self.n1 + self.n2\n",
        "            self.n1, self.n2 = self.n2, next_fib\n",
        "            self.count += 1\n",
        "            return next_fib\n",
        "\n",
        "# Example usage:\n",
        "fib = FibonacciIterator(10)  # Generate 10 Fibonacci numbers\n",
        "for num in fib:\n",
        "    print(num)"
      ],
      "metadata": {
        "colab": {
          "base_uri": "https://localhost:8080/"
        },
        "id": "OvDKzgvYS6kr",
        "outputId": "459a4f1b-ca02-4144-daad-9bf64faca0c1"
      },
      "execution_count": 9,
      "outputs": [
        {
          "output_type": "stream",
          "name": "stdout",
          "text": [
            "0\n",
            "1\n",
            "1\n",
            "2\n",
            "3\n",
            "5\n",
            "8\n",
            "13\n",
            "21\n",
            "34\n"
          ]
        }
      ]
    },
    {
      "cell_type": "code",
      "source": [
        "#6 Write a generator function in Python that yields the powers of 2 up to a given exponent.\n",
        "def powers_of_two(max_exponent):\n",
        "    for i in range(max_exponent + 1):\n",
        "        yield 2 ** i\n",
        "\n",
        "# Example usage:\n",
        "for power in powers_of_two(5):\n",
        "    print(power)"
      ],
      "metadata": {
        "colab": {
          "base_uri": "https://localhost:8080/"
        },
        "id": "cTW1VTQqTgES",
        "outputId": "a8a64454-ffbd-4ae9-9d93-a2b439747d95"
      },
      "execution_count": 10,
      "outputs": [
        {
          "output_type": "stream",
          "name": "stdout",
          "text": [
            "1\n",
            "2\n",
            "4\n",
            "8\n",
            "16\n",
            "32\n"
          ]
        }
      ]
    },
    {
      "cell_type": "code",
      "source": [
        "#7.Implement a generator function that reads a file line by line and yields each line as a string.\n",
        "\n",
        "\n",
        "def read_file_line_by_line(file_path):\n",
        "    try:\n",
        "        with open(file_path, 'r') as file:\n",
        "            for line in file:\n",
        "                yield line.strip()\n",
        "    except FileNotFoundError:\n",
        "        print(f\"File {file_path} not found\")\n",
        "    except Exception as e:\n",
        "        print(f\"An error occurred: {e}\")\n",
        "\n",
        "# Example usage\n",
        "file_path = 'example.txt'\n",
        "with open(file_path, 'w') as file:\n",
        "    file.write(\"Line 1\\n\")\n",
        "    file.write(\"Line 2\\n\")\n",
        "    file.write(\"Line 3\\n\")\n",
        "for line in read_file_line_by_line(file_path):\n",
        "    print(line)"
      ],
      "metadata": {
        "colab": {
          "base_uri": "https://localhost:8080/"
        },
        "id": "06s2r-47T8vT",
        "outputId": "06c716e6-cb29-449d-883b-73a3584f70c6"
      },
      "execution_count": 16,
      "outputs": [
        {
          "output_type": "stream",
          "name": "stdout",
          "text": [
            "Line 1\n",
            "Line 2\n",
            "Line 3\n"
          ]
        }
      ]
    },
    {
      "cell_type": "code",
      "source": [
        "#8. Use a lambda function in Python to sort a list of tuples based on the second element of each tuple.\n",
        "data = [(1, 5), (3, 2), (2, 8), (4, 1)]\n",
        "sorted_data = sorted(data, key=lambda x: x[1])\n",
        "print(sorted_data)"
      ],
      "metadata": {
        "colab": {
          "base_uri": "https://localhost:8080/"
        },
        "id": "uXH2E_5yUOMH",
        "outputId": "8aa39ee8-3e3a-4d90-e07b-5c8c24c27520"
      },
      "execution_count": 17,
      "outputs": [
        {
          "output_type": "stream",
          "name": "stdout",
          "text": [
            "[(4, 1), (3, 2), (1, 5), (2, 8)]\n"
          ]
        }
      ]
    },
    {
      "cell_type": "code",
      "source": [
        "#9 Write a Python program that uses `map()` to convert a list of temperatures from Celsius to Fahrenheit.\n",
        "# Function to convert Celsius to Fahrenheit\n",
        "def celsius_to_fahrenheit(c):\n",
        "    return (c * 9/5) + 32\n",
        "\n",
        "# List of temperatures in Celsius\n",
        "celsius_list = [0, 10, 20, 30, 40]\n",
        "\n",
        "# Convert using map()\n",
        "fahrenheit_list = list(map(celsius_to_fahrenheit, celsius_list))\n",
        "\n",
        "# Print the result\n",
        "print(\"Celsius:\", celsius_list)\n",
        "print(\"Fahrenheit:\", fahrenheit_list)"
      ],
      "metadata": {
        "colab": {
          "base_uri": "https://localhost:8080/"
        },
        "id": "BYyonYw9WCJs",
        "outputId": "a12be2f2-999a-41ee-dd32-f83e34cc6088"
      },
      "execution_count": 18,
      "outputs": [
        {
          "output_type": "stream",
          "name": "stdout",
          "text": [
            "Celsius: [0, 10, 20, 30, 40]\n",
            "Fahrenheit: [32.0, 50.0, 68.0, 86.0, 104.0]\n"
          ]
        }
      ]
    },
    {
      "cell_type": "code",
      "source": [
        "#10 . Create a Python program that uses `filter()` to remove all the vowels from a given string\n",
        "def remove_vowels(input_str):\n",
        "    vowels = 'aeiouAEIOU'\n",
        "    return ''.join(filter(lambda ch: ch not in vowels, input_str))\n",
        "\n",
        "# Example usage:\n",
        "text = \"Hello, this is a Python program.\"\n",
        "result = remove_vowels(text)\n",
        "print(\"Original string:\", text)\n",
        "print(\"Without vowels:\", result)"
      ],
      "metadata": {
        "colab": {
          "base_uri": "https://localhost:8080/"
        },
        "id": "v2jOq7T0W2Bm",
        "outputId": "22eb066f-878f-4d46-9b6b-a01c117bde3d"
      },
      "execution_count": 19,
      "outputs": [
        {
          "output_type": "stream",
          "name": "stdout",
          "text": [
            "Original string: Hello, this is a Python program.\n",
            "Without vowels: Hll, ths s  Pythn prgrm.\n"
          ]
        }
      ]
    },
    {
      "cell_type": "code",
      "source": [
        "#11 Imagine an accounting routine used in a book shop. It works on a list with sublists, which look like this:\n",
        "\n",
        "# Order Number    Book Title and Author           Quantity          Price per Item\n",
        "\n",
        "# 34587         Learning Python, Mark Lutz            4               40.95\n",
        "\n",
        "# 98762         Programming Python, Mark Lutz         3               56.80\n",
        "\n",
        "# 77226         Head First Python, Paul Barry         5               32.95\n",
        "\n",
        "# 8811          Einführung in Python3, Bernd Klein    3               24.99\n",
        "\n",
        "# Write a Python program, which returns a list with 2-tuples. Each tuple consists of the order number and the product of the price per item and the quantity. The product should be increased by 10,- € if the value of the order is smaller than 100,00 €. I\n",
        "\n",
        "# Write a Python program using lambda and map.\n",
        "\n",
        "# List of book orders: [order_number, title, quantity, price_per_item]\n",
        "orders = [\n",
        "    [34587, \"Learning Python, Mark Lutz\", 4, 40.95],\n",
        "    [98762, \"Programming Python, Mark Lutz\", 3, 56.80],\n",
        "    [77226, \"Head First Python, Paul Barry\", 5, 32.95],\n",
        "    [8811,  \"Einführung in Python3, Bernd Klein\", 3, 24.99]\n",
        "]\n",
        "\n",
        "# Process using lambda and map\n",
        "result = list(map(lambda order: (\n",
        "    order[0],\n",
        "    round(order[2] * order[3] + (10 if order[2] * order[3] < 100 else 0), 2)\n",
        "), orders))\n",
        "\n",
        "# Display result\n",
        "print(result)"
      ],
      "metadata": {
        "colab": {
          "base_uri": "https://localhost:8080/"
        },
        "id": "K2als86EXRvM",
        "outputId": "c5e0afd4-d087-4330-ada9-4896e49470fa"
      },
      "execution_count": 21,
      "outputs": [
        {
          "output_type": "stream",
          "name": "stdout",
          "text": [
            "[(34587, 163.8), (98762, 170.4), (77226, 164.75), (8811, 84.97)]\n"
          ]
        }
      ]
    },
    {
      "cell_type": "code",
      "source": [],
      "metadata": {
        "id": "MEywX2yRa_HI"
      },
      "execution_count": null,
      "outputs": []
    }
  ]
}